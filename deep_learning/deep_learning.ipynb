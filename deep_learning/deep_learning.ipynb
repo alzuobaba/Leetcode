{
 "cells": [
  {
   "cell_type": "code",
   "execution_count": 8,
   "outputs": [],
   "source": [
    "import numpy as np\n",
    "import seaborn as sns\n",
    "import matplotlib.pyplot as plt\n",
    "sns.set()"
   ],
   "metadata": {
    "collapsed": false,
    "pycharm": {
     "name": "#%% \n",
     "is_executing": false
    }
   }
  },
  {
   "cell_type": "markdown",
   "source": [
    "# numpy 使用\n",
    "reference：\n",
    "https://hadrienj.github.io/posts/Deep-Learning-Book-Series-2.2-Multiplying-Matrices-and-Vectors/\n",
    "\n",
    "shape 行列值\n",
    "T 转置"
   ],
   "metadata": {
    "collapsed": false
   }
  },
  {
   "cell_type": "code",
   "execution_count": 3,
   "metadata": {
    "collapsed": false,
    "pycharm": {
     "name": "#%%\n",
     "is_executing": false
    }
   },
   "outputs": [
    {
     "name": "stdout",
     "text": [
      "(3, 2)\n"
     ],
     "output_type": "stream"
    },
    {
     "data": {
      "text/plain": "(4,)"
     },
     "metadata": {},
     "output_type": "execute_result",
     "execution_count": 3
    }
   ],
   "source": [
    "import numpy as np\n",
    "x = np.array([1,2,3,4])\n",
    "A = np.array([[1,3],[2,4],[6,8]])\n",
    "print(A.shape)\n",
    "x.shape"
   ]
  },
  {
   "cell_type": "code",
   "execution_count": 4,
   "metadata": {
    "collapsed": false,
    "pycharm": {
     "name": "#%%\n",
     "is_executing": false
    }
   },
   "outputs": [
    {
     "data": {
      "text/plain": "(2, 3)"
     },
     "metadata": {},
     "output_type": "execute_result",
     "execution_count": 4
    }
   ],
   "source": [
    "A = np.array([[1,3],[2,4],[6,8]])\n",
    "B = np.array([[2, 5], [7, 4], [4, 3]])\n",
    "A_t = A.T\n",
    "A_t.shape"
   ]
  },
  {
   "cell_type": "code",
   "execution_count": 5,
   "metadata": {
    "collapsed": false,
    "pycharm": {
     "name": "#%%\n",
     "is_executing": false
    }
   },
   "outputs": [],
   "source": [
    "# 加减标量是在所有位置加减\n",
    "C = A + B\n",
    "\n",
    "C = C -3"
   ]
  },
  {
   "cell_type": "code",
   "execution_count": 6,
   "outputs": [],
   "source": [
    "# 数学里不让俩个不同size的matrix add\n",
    "# 但是numpy 里有一个broadcasting, \n",
    "# B会变成[[1,1],[1,1],[1,1]]\n",
    "A = np.array([[1,2],[3,4],[5,6]])\n",
    "B = np.array([[1],[1],[1]])\n",
    "C = A + B"
   ],
   "metadata": {
    "collapsed": false,
    "pycharm": {
     "name": "#%%\n",
     "is_executing": false
    }
   }
  },
  {
   "cell_type": "code",
   "execution_count": 7,
   "outputs": [],
   "source": [
    "# The Numpy function dot() can be used to compute the matrix product (or dot product). Let’s try to reproduce the last exemple:\n",
    "A = np.array([\n",
    "    [1,2],\n",
    "    [3,4],\n",
    "    [5,6]\n",
    "])\n",
    "B = np.array([\n",
    "    [2],\n",
    "    [4]\n",
    "])\n",
    "C = np.dot(A, B)\n",
    "# It is equivalent to use the method dot() of Numpy arrays\n",
    "D = A.dot(B)"
   ],
   "metadata": {
    "collapsed": false,
    "pycharm": {
     "name": "#%%\n",
     "is_executing": false
    }
   }
  },
  {
   "cell_type": "code",
   "execution_count": 8,
   "outputs": [],
   "source": [
    "A = np.array([[1, 2, 3], [4, 5, 6], [7, 8, 9], [10, 11, 12]])\n",
    "B = np.array([[2, 7], [1, 2], [3, 6]])\n",
    "E = A.dot(B)\n",
    "# E_t = B.dot(A) 这样是不对的，要求（m,n）.(n,x) = (m,x)\n"
   ],
   "metadata": {
    "collapsed": false,
    "pycharm": {
     "name": "#%%\n",
     "is_executing": false
    }
   }
  },
  {
   "cell_type": "markdown",
   "source": [
    "# Matrices mutliplication is distributive（分配律）\n",
    "A(B+C)=AB+AC"
   ],
   "metadata": {
    "collapsed": false,
    "pycharm": {
     "name": "#%% md\n"
    }
   }
  },
  {
   "cell_type": "code",
   "execution_count": 9,
   "outputs": [],
   "source": [
    "A = np.array([[2, 3], [1, 4], [7, 6]])\n",
    "B = np.array([[5], [2]])\n",
    "C = np.array([[4],[3]])\n",
    "D = A.dot(B+C)\n",
    "D_another = A.dot(B) + A.dot(C)\n",
    "# 俩个写法是相等的"
   ],
   "metadata": {
    "collapsed": false,
    "pycharm": {
     "name": "#%%\n",
     "is_executing": false
    }
   }
  },
  {
   "cell_type": "markdown",
   "source": [
    "# Matrices mutliplication is associative(结合律)\n",
    "A(BC)=(AB)C"
   ],
   "metadata": {
    "collapsed": false,
    "pycharm": {
     "name": "#%% md\n"
    }
   }
  },
  {
   "cell_type": "code",
   "execution_count": 10,
   "outputs": [],
   "source": [
    "A = np.array([[2, 3], [1, 4], [7, 6]])\n",
    "B = np.array([[5, 3], [2, 2]])\n",
    "C = np.array([[4], [3]])\n",
    "D = A.dot(B.dot(C))\n",
    "D_another = (A.dot(B)).dot(C)\n"
   ],
   "metadata": {
    "collapsed": false,
    "pycharm": {
     "name": "#%%\n",
     "is_executing": false
    }
   }
  },
  {
   "cell_type": "markdown",
   "source": [
    "# Matrix multiplication is not commutative(不满足交换律)\n",
    "AB≠BA"
   ],
   "metadata": {
    "collapsed": false
   }
  },
  {
   "cell_type": "code",
   "execution_count": 11,
   "outputs": [
    {
     "data": {
      "text/plain": "array([[ True,  True],\n       [ True,  True]])"
     },
     "metadata": {},
     "output_type": "execute_result",
     "execution_count": 11
    }
   ],
   "source": [
    "import numpy as np\n",
    "A = np.array([[2, 3], [6, 5]])\n",
    "B = np.array([[5, 3], [2, 2]])\n",
    "C = np.dot(A, B)\n",
    "D = np.dot(B, A)\n",
    "C != D\n"
   ],
   "metadata": {
    "collapsed": false,
    "pycharm": {
     "name": "#%%\n",
     "is_executing": false
    }
   }
  },
  {
   "cell_type": "markdown",
   "source": [
    "# However vector multiplication is commutative\n",
    "x.T dot y == y.T dot x"
   ],
   "metadata": {
    "collapsed": false,
    "pycharm": {
     "name": "#%% md\n"
    }
   }
  },
  {
   "cell_type": "code",
   "execution_count": 12,
   "outputs": [],
   "source": [
    "x = np.array([[2], [6]])\n",
    "y = np.array([[5], [2]])\n",
    "result = np.dot(x.T, y)\n",
    "result_2 = np.dot(y.T, x)"
   ],
   "metadata": {
    "collapsed": false,
    "pycharm": {
     "name": "#%%\n",
     "is_executing": false
    }
   }
  },
  {
   "cell_type": "code",
   "source": [
    "# 单位矩阵\n",
    "np.eye(3)\n",
    "\n",
    "x = np.array([1,2,3])\n",
    "# x对应的单位矩阵 np.eye(x.shape[0])\n",
    "i_x = np.eye(x.shape[0])\n",
    "ix = np.dot(x,i_x)\n",
    "xi = np.dot(i_x,x)\n",
    "# xi等于ix"
   ],
   "metadata": {
    "collapsed": false,
    "pycharm": {
     "name": "#%% \n",
     "is_executing": false
    }
   },
   "execution_count": 13,
   "outputs": []
  },
  {
   "cell_type": "code",
   "execution_count": 14,
   "outputs": [
    {
     "data": {
      "text/plain": "array([[ 1.00000000e+00,  0.00000000e+00, -1.11022302e-16],\n       [ 0.00000000e+00,  1.00000000e+00,  0.00000000e+00],\n       [ 0.00000000e+00,  0.00000000e+00,  1.00000000e+00]])"
     },
     "metadata": {},
     "output_type": "execute_result",
     "execution_count": 14
    }
   ],
   "source": [
    "# 逆矩阵\n",
    "A = np.array([[3, 0, 2], [2, 0, -2], [0, 1, 1]])\n",
    "A_inv = np.linalg.inv(A)\n",
    "A_inv.dot(A)"
   ],
   "metadata": {
    "collapsed": false,
    "pycharm": {
     "name": "#%%\n",
     "is_executing": false
    }
   }
  },
  {
   "cell_type": "code",
   "execution_count": 15,
   "outputs": [
    {
     "traceback": [
      "\u001b[1;31m---------------------------------------------------------------------------\u001b[0m",
      "\u001b[1;31mLinAlgError\u001b[0m                               Traceback (most recent call last)",
      "\u001b[1;32m<ipython-input-15-500b9fa713d6>\u001b[0m in \u001b[0;36m<module>\u001b[1;34m\u001b[0m\n\u001b[0;32m      2\u001b[0m \u001b[1;31m# LinAlgError: Last 2 dimensions of the array must be square\u001b[0m\u001b[1;33m\u001b[0m\u001b[1;33m\u001b[0m\u001b[1;33m\u001b[0m\u001b[0m\n\u001b[0;32m      3\u001b[0m \u001b[0mB\u001b[0m \u001b[1;33m=\u001b[0m \u001b[0mnp\u001b[0m\u001b[1;33m.\u001b[0m\u001b[0marray\u001b[0m\u001b[1;33m(\u001b[0m\u001b[1;33m[\u001b[0m\u001b[1;33m[\u001b[0m\u001b[1;36m3\u001b[0m\u001b[1;33m,\u001b[0m \u001b[1;36m0\u001b[0m\u001b[1;33m,\u001b[0m \u001b[1;36m2\u001b[0m\u001b[1;33m]\u001b[0m\u001b[1;33m,\u001b[0m \u001b[1;33m[\u001b[0m\u001b[1;36m2\u001b[0m\u001b[1;33m,\u001b[0m \u001b[1;36m0\u001b[0m\u001b[1;33m,\u001b[0m \u001b[1;33m-\u001b[0m\u001b[1;36m2\u001b[0m\u001b[1;33m]\u001b[0m\u001b[1;33m]\u001b[0m\u001b[1;33m)\u001b[0m\u001b[1;33m\u001b[0m\u001b[1;33m\u001b[0m\u001b[0m\n\u001b[1;32m----> 4\u001b[1;33m \u001b[0mnp\u001b[0m\u001b[1;33m.\u001b[0m\u001b[0mlinalg\u001b[0m\u001b[1;33m.\u001b[0m\u001b[0minv\u001b[0m\u001b[1;33m(\u001b[0m\u001b[0mB\u001b[0m\u001b[1;33m)\u001b[0m\u001b[1;33m\u001b[0m\u001b[1;33m\u001b[0m\u001b[0m\n\u001b[0m\u001b[0;32m      5\u001b[0m \u001b[1;33m\u001b[0m\u001b[0m\n",
      "\u001b[1;32md:\\ProgramData\\Anaconda3\\lib\\site-packages\\numpy\\linalg\\linalg.py\u001b[0m in \u001b[0;36minv\u001b[1;34m(a)\u001b[0m\n\u001b[0;32m    544\u001b[0m     \u001b[0ma\u001b[0m\u001b[1;33m,\u001b[0m \u001b[0mwrap\u001b[0m \u001b[1;33m=\u001b[0m \u001b[0m_makearray\u001b[0m\u001b[1;33m(\u001b[0m\u001b[0ma\u001b[0m\u001b[1;33m)\u001b[0m\u001b[1;33m\u001b[0m\u001b[1;33m\u001b[0m\u001b[0m\n\u001b[0;32m    545\u001b[0m     \u001b[0m_assertRankAtLeast2\u001b[0m\u001b[1;33m(\u001b[0m\u001b[0ma\u001b[0m\u001b[1;33m)\u001b[0m\u001b[1;33m\u001b[0m\u001b[1;33m\u001b[0m\u001b[0m\n\u001b[1;32m--> 546\u001b[1;33m     \u001b[0m_assertNdSquareness\u001b[0m\u001b[1;33m(\u001b[0m\u001b[0ma\u001b[0m\u001b[1;33m)\u001b[0m\u001b[1;33m\u001b[0m\u001b[1;33m\u001b[0m\u001b[0m\n\u001b[0m\u001b[0;32m    547\u001b[0m     \u001b[0mt\u001b[0m\u001b[1;33m,\u001b[0m \u001b[0mresult_t\u001b[0m \u001b[1;33m=\u001b[0m \u001b[0m_commonType\u001b[0m\u001b[1;33m(\u001b[0m\u001b[0ma\u001b[0m\u001b[1;33m)\u001b[0m\u001b[1;33m\u001b[0m\u001b[1;33m\u001b[0m\u001b[0m\n\u001b[0;32m    548\u001b[0m \u001b[1;33m\u001b[0m\u001b[0m\n",
      "\u001b[1;32md:\\ProgramData\\Anaconda3\\lib\\site-packages\\numpy\\linalg\\linalg.py\u001b[0m in \u001b[0;36m_assertNdSquareness\u001b[1;34m(*arrays)\u001b[0m\n\u001b[0;32m    211\u001b[0m         \u001b[0mm\u001b[0m\u001b[1;33m,\u001b[0m \u001b[0mn\u001b[0m \u001b[1;33m=\u001b[0m \u001b[0ma\u001b[0m\u001b[1;33m.\u001b[0m\u001b[0mshape\u001b[0m\u001b[1;33m[\u001b[0m\u001b[1;33m-\u001b[0m\u001b[1;36m2\u001b[0m\u001b[1;33m:\u001b[0m\u001b[1;33m]\u001b[0m\u001b[1;33m\u001b[0m\u001b[1;33m\u001b[0m\u001b[0m\n\u001b[0;32m    212\u001b[0m         \u001b[1;32mif\u001b[0m \u001b[0mm\u001b[0m \u001b[1;33m!=\u001b[0m \u001b[0mn\u001b[0m\u001b[1;33m:\u001b[0m\u001b[1;33m\u001b[0m\u001b[1;33m\u001b[0m\u001b[0m\n\u001b[1;32m--> 213\u001b[1;33m             \u001b[1;32mraise\u001b[0m \u001b[0mLinAlgError\u001b[0m\u001b[1;33m(\u001b[0m\u001b[1;34m'Last 2 dimensions of the array must be square'\u001b[0m\u001b[1;33m)\u001b[0m\u001b[1;33m\u001b[0m\u001b[1;33m\u001b[0m\u001b[0m\n\u001b[0m\u001b[0;32m    214\u001b[0m \u001b[1;33m\u001b[0m\u001b[0m\n\u001b[0;32m    215\u001b[0m \u001b[1;32mdef\u001b[0m \u001b[0m_assertFinite\u001b[0m\u001b[1;33m(\u001b[0m\u001b[1;33m*\u001b[0m\u001b[0marrays\u001b[0m\u001b[1;33m)\u001b[0m\u001b[1;33m:\u001b[0m\u001b[1;33m\u001b[0m\u001b[1;33m\u001b[0m\u001b[0m\n",
      "\u001b[1;31mLinAlgError\u001b[0m: Last 2 dimensions of the array must be square"
     ],
     "ename": "LinAlgError",
     "evalue": "Last 2 dimensions of the array must be square",
     "output_type": "error"
    }
   ],
   "source": [
    "# 非正方形矩阵没有逆矩阵\n",
    "# LinAlgError: Last 2 dimensions of the array must be square\n",
    "B = np.array([[3, 0, 2], [2, 0, -2]])\n",
    "np.linalg.inv(B)"
   ],
   "metadata": {
    "collapsed": false,
    "pycharm": {
     "name": "#%%\n",
     "is_executing": false
    }
   }
  },
  {
   "cell_type": "code",
   "execution_count": null,
   "outputs": [],
   "source": [
    "A = np.array([[2, -1], [1, 1]])\n",
    "A_inv = np.linalg.inv(A)\n",
    "b = np.array([[0], [3]])\n",
    "A_inv.dot(b)\n",
    "3*A"
   ],
   "metadata": {
    "collapsed": false,
    "pycharm": {
     "name": "#%%\n",
     "is_executing": false
    }
   }
  },
  {
   "cell_type": "code",
   "execution_count": null,
   "outputs": [],
   "source": [
    "x =np.arange(-10, 10)\n",
    "y1 = 2*x\n",
    "y2 = -x +3"
   ],
   "metadata": {
    "collapsed": false,
    "pycharm": {
     "name": "#%%\n",
     "is_executing": false
    }
   }
  },
  {
   "cell_type": "code",
   "execution_count": 2,
   "outputs": [
    {
     "data": {
      "text/plain": "<Figure size 432x288 with 0 Axes>"
     },
     "metadata": {},
     "output_type": "display_data"
    },
    {
     "data": {
      "text/plain": "<Figure size 432x288 with 4 Axes>",
      "image/png": "[encoded data removed]"
     },
     "metadata": {
      "needs_background": "light"
     },
     "output_type": "display_data"
    }
   ],
   "source": [
    "fig = plt.figure()  # an empty figure with no axes\n",
    "fig.suptitle('No axes on this figure')  # Add a title so we know which it is\n",
    "\n",
    "fig, ax_lst = plt.subplots(2, 2)  #\n"
   ],
   "metadata": {
    "collapsed": false,
    "pycharm": {
     "name": "#%%\n",
     "is_executing": false
    }
   }
  },
  {
   "cell_type": "code",
   "execution_count": 7,
   "outputs": [],
   "source": [
    "# norms\n",
    "u = np.array([1,6])\n",
    "v = np.array([4,2])\n",
    "w = u+v\n",
    "m = np.linalg.norm(u+v)\n",
    "n = np.linalg.norm(u) + np.linalg.norm(v)"
   ],
   "metadata": {
    "collapsed": false,
    "pycharm": {
     "name": "#%%\n",
     "is_executing": false
    }
   }
  },
  {
   "cell_type": "code",
   "execution_count": 9,
   "outputs": [
    {
     "data": {
      "text/plain": "<Figure size 432x288 with 1 Axes>",
      "image/png": "[encoded data removed]"
     },
     "metadata": {},
     "output_type": "display_data"
    }
   ],
   "source": [
    "u = [0,0,1,6]\n",
    "v = [0,0,4,2]\n",
    "u_bis = [1,6,v[2],v[3]]\n",
    "w = [0,0,5,8]\n",
    "plt.quiver([u[0], u_bis[0], w[0]],\n",
    "           [u[1], u_bis[1], w[1]],\n",
    "           [u[2], u_bis[2], w[2]],\n",
    "           [u[3], u_bis[3], w[3]],\n",
    "           angles='xy', scale_units='xy', scale=1, color=sns.color_palette())\n",
    "# plt.rc('text', usetex=True)\n",
    "plt.xlim(-2, 6)\n",
    "plt.ylim(-2, 9)\n",
    "plt.axvline(x=0, color='grey')\n",
    "plt.axhline(y=0, color='grey')\n",
    "\n",
    "plt.text(-1, 3.5, r'$||\\vec{u}||$', color=sns.color_palette()[0], size=20)\n",
    "plt.text(2.5, 7.5, r'$||\\vec{v}||$', color=sns.color_palette()[1], size=20)\n",
    "plt.text(2, 2, r'$||\\vec{u}+\\vec{v}||$', color=sns.color_palette()[2], size=20)\n",
    "\n",
    "plt.show()\n",
    "plt.close()\n",
    "\n",
    "\n"
   ],
   "metadata": {
    "collapsed": false,
    "pycharm": {
     "name": "#%%\n",
     "is_executing": false
    }
   }
  },
  {
   "cell_type": "code",
   "execution_count": 16,
   "outputs": [
    {
     "name": "stdout",
     "text": [
      "b'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'\n"
     ],
     "output_type": "stream"
    }
   ],
   "source": [
    "import base64\n",
    "with open('1.jpg','rb+') as f:\n",
    "    base_data = base64.b64encode(f.read())\n",
    "    print(base_data)\n",
    "    file=open('1.txt','wt')#写成文本格式\n",
    "    file.write(base_data.decode())\n",
    "    file.close()"
   ],
   "metadata": {
    "collapsed": false,
    "pycharm": {
     "name": "#%%\n",
     "is_executing": false
    }
   }
  },
  {
   "cell_type": "code",
   "execution_count": 23,
   "outputs": [
    {
     "name": "stdout",
     "text": [
      " <class 'str'>\n"
     ],
     "output_type": "stream"
    }
   ],
   "source": [
    "c= input()\n",
    "print(c, type(c))"
   ],
   "metadata": {
    "collapsed": false,
    "pycharm": {
     "name": "#%%\n",
     "is_executing": false
    }
   }
  },
  {
   "cell_type": "code",
   "execution_count": null,
   "outputs": [],
   "source": [
    "\n"
   ],
   "metadata": {
    "collapsed": false,
    "pycharm": {
     "name": "#%%\n"
    }
   }
  }
 ],
 "metadata": {
  "kernelspec": {
   "name": "python3",
   "language": "python",
   "display_name": "Python 3"
  },
  "language_info": {
   "codemirror_mode": {
    "name": "ipython",
    "version": 2
   },
   "file_extension": ".py",
   "mimetype": "text/x-python",
   "name": "python",
   "nbconvert_exporter": "python",
   "pygments_lexer": "ipython2",
   "version": "2.7.6"
  },
  "pycharm": {
   "stem_cell": {
    "cell_type": "raw",
    "source": [],
    "metadata": {
     "collapsed": false
    }
   }
  }
 },
 "nbformat": 4,
 "nbformat_minor": 0
}